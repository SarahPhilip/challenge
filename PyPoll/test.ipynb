{
 "cells": [
  {
   "cell_type": "code",
   "execution_count": 13,
   "metadata": {},
   "outputs": [
    {
     "name": "stdout",
     "output_type": "stream",
     "text": [
      "Election Results\n",
      "-------------------------\n",
      "Total Votes : 3521001\n",
      "-------------------------\n",
      "Khan: 63.000% (2218231)\n",
      "Correy: 20.000% (704200)\n",
      "Li: 14.000% (492940)\n",
      "O'Tooley: 3.000% (105630)\n",
      "-------------------------\n",
      "Winner : Khan\n",
      "-------------------------\n"
     ]
    }
   ],
   "source": [
    "import csv\n",
    "from collections import Counter\n",
    "\n",
    "csvpath = \"election_data.csv\"\n",
    "total_votes = 0\n",
    "candidate_list = []\n",
    "first_row = True\n",
    "votes = 0\n",
    "with open(csvpath, 'r') as csvfile:\n",
    "\tcsvreader = csv.reader(csvfile, delimiter = '\\n')\n",
    "\tcsv_header = next(csvfile)\n",
    "\tfor row in csvreader:\n",
    "#Separate the Voter ID,County and Candidate\n",
    "\t\tthis_row = row[0].split(\",\")\n",
    "\t\tcandidate_list.append(this_row[2])\n",
    "#Create a counter variable \n",
    "vote_counter = Counter(candidate_list)\n",
    "#Total no. of votes\n",
    "total_votes = sum(vote_counter.values())\n",
    "print(\"Election Results\")\n",
    "print (\"-\"* 25)\n",
    "print(\"Total Votes : \" + str(total_votes))\n",
    "print (\"-\"* 25)\n",
    "#Iterate through the counter variable and find the number of votes for each candidate and te winner\n",
    "for key, value in vote_counter.items():\n",
    "\tprint(\"{}: {:.3f}% ({})\".format(key, (value/total_votes*100), value))\n",
    "\tif votes < value:\n",
    "\t\twinner = key\n",
    "\t\tvotes = value\n",
    "print (\"-\"* 25)\n",
    "print(\"Winner : \" + winner)\n",
    "print (\"-\"* 25)\n",
    "\n",
    "#Writing to a txt file\n",
    "output_file = \"output.txt\"\n",
    "with open(output_file, 'w') as textfile:\n",
    "\ttextfile.write(\"Election Results \\n\")\n",
    "\ttextfile.write(\"-\"* 25 +'\\n')\n",
    "\ttextfile.write(\"Total Votes : \" + str(total_votes) +'\\n')\n",
    "\ttextfile.write(\"-\"* 25 +'\\n')\n",
    "\tfor key, value in vote_counter.items():\n",
    "\t\ttextfile.write(\"{}: {:.3f}% ({})\".format(key, (value/total_votes*100), value))\n",
    "\ttextfile.write(\"-\"* 25 +'\\n')\n",
    "\ttextfile.write(\"Winner : \" + winner +'\\n')\n",
    "\ttextfile.write(\"-\"* 25 +'\\n')\n",
    "\t\n",
    "\n",
    "\n"
   ]
  },
  {
   "cell_type": "code",
   "execution_count": null,
   "metadata": {},
   "outputs": [],
   "source": []
  }
 ],
 "metadata": {
  "kernelspec": {
   "display_name": "Python [conda env:PythonData]",
   "language": "python",
   "name": "conda-env-PythonData-py"
  },
  "language_info": {
   "codemirror_mode": {
    "name": "ipython",
    "version": 3
   },
   "file_extension": ".py",
   "mimetype": "text/x-python",
   "name": "python",
   "nbconvert_exporter": "python",
   "pygments_lexer": "ipython3",
   "version": "3.6.5"
  }
 },
 "nbformat": 4,
 "nbformat_minor": 2
}
