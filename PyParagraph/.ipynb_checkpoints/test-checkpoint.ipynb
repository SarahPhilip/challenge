{
 "cells": [
  {
   "cell_type": "code",
   "execution_count": 1,
   "metadata": {},
   "outputs": [
    {
     "name": "stdout",
     "output_type": "stream",
     "text": [
      "<class 'str'>\n"
     ]
    }
   ],
   "source": [
    "text_path =  \"test.txt\"\n",
    "i=0\n",
    "with open(text_path, 'r') as infile:\n",
    "\tfor line in infile.readlines():\n",
    "\t\ttxt = line\n",
    "print(type(txt))\n"
   ]
  },
  {
   "cell_type": "code",
   "execution_count": 2,
   "metadata": {},
   "outputs": [],
   "source": [
    "words = txt.split(\" \")"
   ]
  },
  {
   "cell_type": "code",
   "execution_count": 3,
   "metadata": {},
   "outputs": [
    {
     "name": "stdout",
     "output_type": "stream",
     "text": [
      "['Adam', 'Wayne,', 'the', 'conqueror,', 'with', 'his', 'face', 'flung', 'back', 'and', 'his', 'mane', 'like', 'a', \"lion's,\", 'stood', 'with', 'his', 'great', 'sword', 'point', 'upwards,', 'the', 'red', 'raiment', 'of', 'his', 'office', 'flapping', 'around', 'him', 'like', 'the', 'red', 'wings', 'of', 'an', 'archangel.', 'And', 'the', 'King', 'saw,', 'he', 'knew', 'not', 'how,', 'something', 'new', 'and', 'overwhelming.', 'The', 'great', 'green', 'trees', 'and', 'the', 'great', 'red', 'robes', 'swung', 'together', 'in', 'the', 'wind.', 'The', 'preposterous', 'masquerade,', 'born', 'of', 'his', 'own', 'mockery,', 'towered', 'over', 'him', 'and', 'embraced', 'the', 'world.', 'This', 'was', 'the', 'normal,', 'this', 'was', 'sanity,', 'this', 'was', 'nature,', 'and', 'he', 'himself,', 'with', 'his', 'rationality,', 'and', 'his', 'detachment', 'and', 'his', 'black', 'frock-coat,', 'he', 'was', 'the', 'exception', 'and', 'the', 'accident', '-', 'a', 'blot', 'of', 'black', 'upon', 'a', 'world', 'of', 'crimson', 'and', 'gold.']\n"
     ]
    }
   ],
   "source": [
    "print(words)"
   ]
  },
  {
   "cell_type": "code",
   "execution_count": 4,
   "metadata": {},
   "outputs": [
    {
     "ename": "NameError",
     "evalue": "name 'count' is not defined",
     "output_type": "error",
     "traceback": [
      "\u001b[0;31m---------------------------------------------------------------------------\u001b[0m",
      "\u001b[0;31mNameError\u001b[0m                                 Traceback (most recent call last)",
      "\u001b[0;32m<ipython-input-4-296611ce8424>\u001b[0m in \u001b[0;36m<module>\u001b[0;34m()\u001b[0m\n\u001b[0;32m----> 1\u001b[0;31m \u001b[0mcount\u001b[0m\u001b[0;34m(\u001b[0m\u001b[0mwords\u001b[0m\u001b[0;34m)\u001b[0m\u001b[0;34m\u001b[0m\u001b[0m\n\u001b[0m",
      "\u001b[0;31mNameError\u001b[0m: name 'count' is not defined"
     ]
    }
   ],
   "source": [
    "count(words)"
   ]
  },
  {
   "cell_type": "code",
   "execution_count": 5,
   "metadata": {},
   "outputs": [
    {
     "name": "stdout",
     "output_type": "stream",
     "text": [
      "121\n"
     ]
    }
   ],
   "source": [
    "print(len(words))"
   ]
  },
  {
   "cell_type": "code",
   "execution_count": 19,
   "metadata": {},
   "outputs": [
    {
     "name": "stdout",
     "output_type": "stream",
     "text": [
      "Adam\n",
      "Wayne,\n",
      "the\n",
      "conqueror,\n",
      "with\n",
      "his\n",
      "face\n",
      "flung\n",
      "back\n",
      "and\n",
      "his\n",
      "mane\n",
      "like\n",
      "a\n",
      "lion's,\n",
      "stood\n",
      "with\n",
      "his\n",
      "great\n",
      "sword\n",
      "point\n",
      "upwards,\n",
      "the\n",
      "red\n",
      "raiment\n",
      "of\n",
      "his\n",
      "office\n",
      "flapping\n",
      "around\n",
      "him\n",
      "like\n",
      "the\n",
      "red\n",
      "wings\n",
      "of\n",
      "an\n",
      "archangel.\n",
      "And\n",
      "the\n",
      "King\n",
      "saw,\n",
      "he\n",
      "knew\n",
      "not\n",
      "how,\n",
      "something\n",
      "new\n",
      "and\n",
      "overwhelming.\n",
      "The\n",
      "great\n",
      "green\n",
      "trees\n",
      "and\n",
      "the\n",
      "great\n",
      "red\n",
      "robes\n",
      "swung\n",
      "together\n",
      "in\n",
      "the\n",
      "wind.\n",
      "The\n",
      "preposterous\n",
      "masquerade,\n",
      "born\n",
      "of\n",
      "his\n",
      "own\n",
      "mockery,\n",
      "towered\n",
      "over\n",
      "him\n",
      "and\n",
      "embraced\n",
      "the\n",
      "world.\n",
      "This\n",
      "was\n",
      "the\n",
      "normal,\n",
      "this\n",
      "was\n",
      "sanity,\n",
      "this\n",
      "was\n",
      "nature,\n",
      "and\n",
      "he\n",
      "himself,\n",
      "with\n",
      "his\n",
      "rationality,\n",
      "and\n",
      "his\n",
      "detachment\n",
      "and\n",
      "his\n",
      "black\n",
      "frock-coat,\n",
      "he\n",
      "was\n",
      "the\n",
      "exception\n",
      "and\n",
      "the\n",
      "accident\n",
      "-\n",
      "a\n",
      "blot\n",
      "of\n",
      "black\n",
      "upon\n",
      "a\n",
      "world\n",
      "of\n",
      "crimson\n",
      "and\n",
      "gold.\n",
      "0\n"
     ]
    }
   ],
   "source": [
    "for word in txt:\n",
    "    if ' ' in word:\n",
    "        i += 0\n",
    "    print(word)\n",
    "print(i)\n"
   ]
  },
  {
   "cell_type": "code",
   "execution_count": null,
   "metadata": {},
   "outputs": [],
   "source": []
  },
  {
   "cell_type": "code",
   "execution_count": null,
   "metadata": {},
   "outputs": [],
   "source": []
  }
 ],
 "metadata": {
  "kernelspec": {
   "display_name": "Python [conda env:PythonData]",
   "language": "python",
   "name": "conda-env-PythonData-py"
  },
  "language_info": {
   "codemirror_mode": {
    "name": "ipython",
    "version": 3
   },
   "file_extension": ".py",
   "mimetype": "text/x-python",
   "name": "python",
   "nbconvert_exporter": "python",
   "pygments_lexer": "ipython3",
   "version": "3.6.5"
  }
 },
 "nbformat": 4,
 "nbformat_minor": 2
}
