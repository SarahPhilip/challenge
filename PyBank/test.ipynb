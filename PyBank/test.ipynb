{
 "cells": [
  {
   "cell_type": "code",
   "execution_count": 1,
   "metadata": {},
   "outputs": [
    {
     "name": "stdout",
     "output_type": "stream",
     "text": [
      "Financial Analysis\n",
      "-------------------------\n",
      "Total months : 86\n",
      "Net Amount : 38382578\n",
      "Average Change : $-2315.12\n",
      "Greatest Increase in Profits :Feb-2012 (1926159)\n",
      "Greatest Decrease in Profits :Sep-2013 (-2196167)\n"
     ]
    }
   ],
   "source": [
    "import csv\n",
    "\n",
    "csvpath = 'budget_data.csv'\n",
    "num_months = 0\n",
    "net_amount = 0\n",
    "net_change = 0\n",
    "last_amount = 0\n",
    "first_row = True\n",
    "greatest_increase_val = 0\n",
    "greatest_decrease_val = 0\n",
    "\n",
    "with open(csvpath, 'r') as csvfile:\n",
    "\tcsvreader = csv.reader(csvfile, delimiter = '\\n')\n",
    "\tcsv_header = next(csvreader)\n",
    "\n",
    "\tfor row in csvreader:\n",
    "\n",
    "# The total number of months included in the dataset\n",
    "\t\tnum_months += 1\n",
    "\n",
    "# The total net amount of \"Profit/Losses\" over the entire period\n",
    "\t\tdate_amount = row[0].split(\",\")\n",
    "\t\tthis_amount = int(date_amount[1])\n",
    "\t\tthis_date = date_amount[0]\n",
    "\t\tnet_amount += this_amount\n",
    "\n",
    "# The average change in \"Profit/Losses\" between months over the entire period\n",
    "\t\tif first_row is True:\n",
    "\t\t\tchange = 0\n",
    "\t\t\tfirst_row = False\n",
    "\t\telse:\n",
    "\t\t\tchange = this_amount - last_amount\n",
    "\t\tnet_change += change\n",
    "\t\tlast_amount = this_amount\n",
    "\n",
    "# The greatest increase in profits (date and amount) over the entire period\n",
    "\t\tif change > greatest_increase_val:\n",
    "\t\t\tgreatest_increase_val = change\n",
    "\t\t\tgreatest_increase_date = this_date\n",
    "# The greatest decrease in losses (date and amount) over the entire period\n",
    "\t\telif change < greatest_decrease_val:\n",
    "\t\t\tgreatest_decrease_val = change\n",
    "\t\t\tgreatest_decrease_date = this_date\n",
    "\n",
    "avg_change = round(net_change / (num_months - 1),2)\t\t\n",
    "\n",
    "output_file = \"output.txt\"\n",
    "with open(output_file, 'w') as textfile:\n",
    "\ttextfile.write(\"Financial Analysis \\n\")\n",
    "\ttextfile.write((\"-\" * 25 + \"\\n\"))\n",
    "\ttextfile.write(\"Total months : \" + str(num_months) + \"\\n\")\n",
    "\ttextfile.write(\"Net Amount : \" + str(net_amount) + \"\\n\")\n",
    "\ttextfile.write(\"Average Change : $\" + str(avg_change) + \"\\n\")\n",
    "\ttextfile.write(\"Greatest Increase in Profits :\" + str(greatest_increase_date) + \" (\" + str(greatest_increase_val) + \")\\n\")\n",
    "\ttextfile.write(\"Greatest Decrease in Profits :\" + str(greatest_decrease_date) + \" (\" + str(greatest_decrease_val) + \")\\n\")\n",
    "\n",
    "\n",
    "print(\"Financial Analysis\")\n",
    "print (\"-\" *25)\n",
    "print(\"Total months : \" + str(num_months))\n",
    "print(\"Net Amount : \" + str(net_amount))\n",
    "print(\"Average Change : $\" + str(avg_change))\n",
    "print(\"Greatest Increase in Profits :\" + str(greatest_increase_date) + \" (\" + str(greatest_increase_val) + \")\")\n",
    "print(\"Greatest Decrease in Profits :\" + str(greatest_decrease_date) + \" (\" + str(greatest_decrease_val) + \")\")\n",
    "\n",
    "\n",
    "\n"
   ]
  },
  {
   "cell_type": "code",
   "execution_count": null,
   "metadata": {},
   "outputs": [],
   "source": []
  }
 ],
 "metadata": {
  "kernelspec": {
   "display_name": "Python [conda env:PythonData]",
   "language": "python",
   "name": "conda-env-PythonData-py"
  },
  "language_info": {
   "codemirror_mode": {
    "name": "ipython",
    "version": 3
   },
   "file_extension": ".py",
   "mimetype": "text/x-python",
   "name": "python",
   "nbconvert_exporter": "python",
   "pygments_lexer": "ipython3",
   "version": "3.6.5"
  }
 },
 "nbformat": 4,
 "nbformat_minor": 2
}
